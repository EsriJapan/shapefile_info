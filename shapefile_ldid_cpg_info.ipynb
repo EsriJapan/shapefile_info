{
 "cells": [
  {
   "cell_type": "markdown",
   "id": "9065f997",
   "metadata": {},
   "source": [
    "## シェープファイル または dBASE ファイル の LDID（Language driver ID）と *.cpg ファイル を調べる"
   ]
  },
  {
   "cell_type": "markdown",
   "id": "a4dc8f29",
   "metadata": {
    "heading_collapsed": true
   },
   "source": [
    "### 概要："
   ]
  },
  {
   "cell_type": "markdown",
   "id": "f34a26b2",
   "metadata": {
    "hidden": true
   },
   "source": [
    "「[操作手順: 各種コード ページでエンコードされたシェープファイルと dBASE ファイルを読み書きする](https://support.esri.com/ja/technical-article/000013192) 」 の技術文章で記載しているように、ArcGIS の\n",
    "dBASE ファイルのコード ページ変換機能 (名称: `dbfDefault`) は、システム レジストリにコード ページ値を指定してアクティブ化するものです。ESRIジャパンで提供している、[シェープファイル文字コード設定ユーティリティ](https://doc.esrij.com/pro/get-started/setup/user/addin_tool/#%E3%82%B7%E3%82%A7%E3%83%BC%E3%83%97%E3%83%95%E3%82%A1%E3%82%A4%E3%83%AB%E6%96%87%E5%AD%97%E3%82%B3%E3%83%BC%E3%83%89%E8%A8%AD%E5%AE%9A%E3%83%A6%E3%83%BC%E3%83%86%E3%82%A3%E3%83%AA%E3%83%86%E3%82%A3) は、この`dbfDefault` の設定をユーザーインターフェイス で設定するためのツールです。\n",
    "\n",
    "また、上記の[操作手順](https://support.esri.com/ja/technical-article/000013192) には、dbfDefault をレジストリに設定することにより出来ることが解説されている他、dBASE ファイル の LDID（Language driver ID）, *.cpgファイル の有無による、アプリケーションでの挙動について次のように解説されています。\n",
    "\n",
    "「シェープファイルまたは dBASE ファイルに LDID や *.cpg ファイルが存在しない場合、ArcGIS は、dbfDefault で定義されたコード ページでファイルがエンコードされると見なします。 たとえば、dbfDefault 値が OEM に設定され、dBASE ファイルに LDID および *.cpg ファイルが両方とも存在しない場合、ArcGIS はファイルが OEM でエンコードされると見なすため、ArcMap、ArcCatalog、および ArcGIS Pro で 8 ビット文字を表示するためにコード ページ変換を実行します (これは、どのアプリケーションも、ANSI コード ページを使用して文字列を表示する Windows プログラムであるためです)。」\n",
    "\n",
    "裏を返せば、国内での一部のシェープファイルが文字化けするのは、\n",
    "\n",
    "- dBASE ファイルの LDID（Language driver ID）が存在しない（値が0）\n",
    "- オプションの *.cpg ファイル が提供されていない\n",
    "\n",
    "の両方があてはまる場合であるとも言えます。\n",
    "\n",
    "\n",
    "**※** 上記の[操作手順](https://support.esri.com/ja/technical-article/000013192) は、デスクトップ製品に関する記載となっていますが、ArcGIS Online や ArcGIS Enterprise でも同様の挙動となります。具体的には、シェープファイル の登録時に指定する ZIP ファイル内に格納された dBASE ファイルの LDID と *.cpg ファイル の両方が存在しない場合、公開後の[フィーチャ レイヤー](https://doc.arcgis.com/ja/arcgis-online/reference/feature-layers.htm) が文字化けした状態になります。"
   ]
  },
  {
   "cell_type": "markdown",
   "id": "47542773",
   "metadata": {},
   "source": [
    "### サンプル ノートブックの目的："
   ]
  },
  {
   "cell_type": "markdown",
   "id": "718b9915",
   "metadata": {},
   "source": [
    "オープンデータ として公開されているシェープファイル（特に作成年が古いもの）や、その他、世の中に流通しているシェープファイルの中には、文字化けが発生する状態で提供されている場合が多々あります。\n",
    "\n",
    "本ノートブックは、そんな時の原因を理解するために、dBASE ファイル の LDID（Language driver ID）と *.cpg ファイル を、Pure Python （ArcGIS で利用するライブラリは使っていません）で読み込みし確認するためのサンプル ノートブックです。\n",
    "\n",
    "また、併せてフォルダー内にあるシェープファイルのファイル名にあわせて、*.cpg ファイル を一括で作成するサンプルも記載しております\n",
    "\n",
    "1. サンプルその１：フォルダー 内のdbf ファイル の LDID と CPGファイルの情報を一覧で表示\n",
    "2. サンプルその２：サブフォルダー 内のdbf ファイル の LDID と CPGファイルの情報を一覧で表示\n",
    "3. サンプルその３：フォルダー 内のシェープファイル に対応する CPGファイルを一括で作成する\n",
    "4. サンプルその４：サブフォルダー 内のシェープファイル に対応する CPGファイルを一括で作成する\n",
    "\n",
    "なお、シェープファイル作成時の文字コードを UTF-8 で利用する場合の注意点などは、[シェープファイルの文字コードに関する注意](https://esrij-esri-support.custhelp.com/app/answers/detail/a_id/5411)  をご参照ください。\n",
    "\n",
    "その他、*.cpg ファイル の手動での作成方法は、[問題：シェープファイルや DBF ファイルが文字化けする](https://esrij-esri-support.custhelp.com/app/answers/detail/a_id/5850)  に記載がありますので、そちらをご参照ください。  \n",
    "\n",
    "※ LDID（Language driver ID）は『 [シェープファイルの技術情報](http://www.esrij.com/cgi-bin/wp/wp-content/uploads/documents/shapefile_j.pdf) 』の中では、「言語ドライバ ID」として記載されているものです。"
   ]
  },
  {
   "cell_type": "markdown",
   "id": "c3d51a93",
   "metadata": {},
   "source": [
    "### ここからがサンプル ノートブックの実装：\n",
    "\n",
    "LDID がどの Codepage に対応しているか返却できるように定義"
   ]
  },
  {
   "cell_type": "code",
   "execution_count": 1,
   "id": "41ed0596",
   "metadata": {},
   "outputs": [],
   "source": [
    "# dbaseヘッダーのLDID がどのCodepageに対応しているか\n",
    "# 取り出しやすくするために、「Shapefile C Library のLanguage driver ID（LDID）と Codepage の対応表」をもとにディクショナリとして定義\n",
    "# ID(Language driver ID), Codepage, Description\n",
    "ldid_dic = {\n",
    "    1:['437','US MS-DOS'],\n",
    "    2:['850','International MS-DOS'],\n",
    "    3:['1252','Windows ANSI Latin I'],\n",
    "    4:['10000','Standard Macintosh'],\n",
    "    8:['865','Danish OEM'],\n",
    "    9:['437','Dutch OEM'],\n",
    "    10:['850','Dutch OEM'],\n",
    "    11:['437','Finnish OEM'],\n",
    "    13:['437','French OEM'],\n",
    "    14:['850','French OEM'],\n",
    "    15:['437','German OEM'],\n",
    "    16:['850','German OEM'],\n",
    "    17:['437','Italian OEM'],\n",
    "    18:['850','Italian OEM'],\n",
    "    19:['932','Japanese Shift-JIS'],\n",
    "    20:['850','Spanish OEM'],\n",
    "    21:['437','Swedish OEM'],\n",
    "    22:['850','Swedish OEM'],\n",
    "    23:['865','Norwegian OEM'],\n",
    "    24:['437','Spanish OEM'],\n",
    "    25:['437','English OEM (Great Britain)'],\n",
    "    26:['850','English OEM (Great Britain)'],\n",
    "    27:['437','English OEM (US)'],\n",
    "    28:['863','French OEM (Canada)'],\n",
    "    29:['850','French OEM'],\n",
    "    31:['852','Czech OEM'],\n",
    "    34:['852','Hungarian OEM'],\n",
    "    35:['852','Polish OEM'],\n",
    "    36:['860','Portuguese OEM'],\n",
    "    37:['850','Portuguese OEM'],\n",
    "    38:['866','Russian OEM'],\n",
    "    55:['850','English OEM (US)'],\n",
    "    64:['852','Romanian OEM'],\n",
    "    77:['936','Chinese GBK (PRC)'],\n",
    "    78:['949','Korean (ANSI/OEM)'],\n",
    "    79:['950','Chinese Big5 (Taiwan)'],\n",
    "    80:['874','Thai (ANSI/OEM)'],\n",
    "    87:['Current ANSI CP','ANSI'],\n",
    "    88:['1252','Western European ANSI'],\n",
    "    89:['1252','Spanish ANSI'],\n",
    "    100:['852','Eastern European MS-DOS'],\n",
    "    101:['866','Russian MS-DOS'],\n",
    "    102:['865','Nordic MS-DOS'],\n",
    "    103:['861','Icelandic MS-DOS'],\n",
    "    104:['895','Kamenicky (Czech) MS-DOS'],\n",
    "    105:['620','Mazovia (Polish) MS-DOS'],\n",
    "    106:['737','Greek MS-DOS (437G)'],\n",
    "    107:['857','Turkish MS-DOS'],\n",
    "    108:['863','French-Canadian MS-DOS'],\n",
    "    120:['950','Taiwan Big 5'],\n",
    "    121:['949','Hangul (Wansung)'],\n",
    "    122:['936','PRC GBK'],\n",
    "    123:['932','Japanese Shift-JIS'],\n",
    "    124:['874','Thai Windows/MS–DOS'],\n",
    "    134:['737','Greek OEM'],\n",
    "    135:['852','Slovenian OEM'],\n",
    "    136:['857','Turkish OEM'],\n",
    "    150:['10007','Russian Macintosh'],\n",
    "    151:['10029','Eastern European Macintosh'],\n",
    "    152:['10006','Greek Macintosh'],\n",
    "    200:['1250','Eastern European Windows'],\n",
    "    201:['1251','Russian Windows'],\n",
    "    202:['1254','Turkish Windows'],\n",
    "    203:['1253','Greek Windows'],\n",
    "    204:['1257','Baltic Windows']\n",
    "}\n",
    "\n",
    "# 補助関数\n",
    "def codepage_list_from_ldid(ldid):\n",
    "    \"\"\"\n",
    "    LDID をもとに上記に整理したCodepage と Description を含めてリストとして返却\n",
    "    \"\"\"\n",
    "    id_dict = ldid_dic.get(ldid)\n",
    "    if id_dict == None:\n",
    "        return [ldid, '0', 'Unknown CodePage']\n",
    "    else:\n",
    "        return [ldid, id_dict[0], id_dict[1]]\n",
    "\n",
    "def codepage_from_ldid(ldid):\n",
    "    \"\"\"\n",
    "    LDID をもとに上記に整理したCodepage と Description を含めて文字として返却\n",
    "    \"\"\"\n",
    "    id_list = codepage_list_from_ldid(ldid)\n",
    "    return \"Language driver ID: {} = CodePage: {} , Description: {}\".format(id_list[0], id_list[1],  id_list[2])\n",
    "\n",
    "# 追加\n",
    "from struct import *\n",
    "def codepage_list_from_dbf_file(dbf):\n",
    "    \"\"\"\n",
    "    dBase ファイルのヘッダーからLDIDを取得し、対応するCodepage の情報とともに返却\n",
    "    \"\"\"\n",
    "    with open(dbf,'rb') as f:\n",
    "        dat = f.read()\n",
    "    ldid = unpack_from('<B', dat, 29)[0] # ヘッダーからLDID を取得\n",
    "    return codepage_list_from_ldid(ldid) # LDID をもとにCodepage の情報を取得"
   ]
  },
  {
   "cell_type": "markdown",
   "id": "1a5786cb",
   "metadata": {},
   "source": [
    "*.cpg ファイルの存在の有無と、ある場合には中身の値も返却する定義"
   ]
  },
  {
   "cell_type": "code",
   "execution_count": 2,
   "id": "db55935d",
   "metadata": {},
   "outputs": [],
   "source": [
    "import os\n",
    "def check_cpgfile(folder, cpg_file_name):\n",
    "    \"\"\"\n",
    "    cpg ファイルの存在チェックの関数\n",
    "    （cpg ファイルが存在する場合はファイルの中身も一緒に取得して返す）\n",
    "    \"\"\"\n",
    "    cpg_file = os.path.join(folder, cpg_file_name)\n",
    "    bl_exist = os.path.isfile(cpg_file)\n",
    "    code_value = \"\"\n",
    "    if (bl_exist):\n",
    "        with open(cpg_file, 'r') as f:\n",
    "            code_value = f.readline().rstrip()\n",
    "    return (bl_exist, code_value)\n",
    "\n",
    "def check_related_cpgfile(dbf):\n",
    "    path, dbf_name = os.path.split(dbf) # path と ファイル名を分ける  \n",
    "    file_name = os.path.splitext(dbf_name)[0]\n",
    "    cpg_file_name = \"{}.cpg\".format(os.path.splitext(file_name)[0])\n",
    "    cpg_file = os.path.join(path, cpg_file_name)\n",
    "    bl_exist = os.path.isfile(cpg_file)\n",
    "    code_value = \"\"\n",
    "    if (bl_exist):\n",
    "        with open(cpg_file, 'r') as f:\n",
    "            code_value = f.readline().rstrip()\n",
    "    return (bl_exist, code_value)"
   ]
  },
  {
   "cell_type": "markdown",
   "id": "7ef422fd",
   "metadata": {},
   "source": [
    "#### 1) サンプルその１：フォルダー 内のdbf ファイル の LDID と CPGファイルの情報を一覧で表示\n",
    "\n",
    "※国土数値情報の土地利用3次メッシュ（平成28年）のデータをサンプルとして利用しています。\n",
    "\n",
    "<pre>\n",
    "folder\n",
    "  |- xxx.dbf\n",
    "  |- (xxx.cpg)\n",
    "</pre>"
   ]
  },
  {
   "cell_type": "code",
   "execution_count": 3,
   "id": "cba74eba",
   "metadata": {},
   "outputs": [],
   "source": [
    "folder = r\"your_folder_path\\国土数値情報DB\\1_国土_土地利用\\土地利用3次メッシュ\\L03-a-16_6140-jgd_GML\""
   ]
  },
  {
   "cell_type": "code",
   "execution_count": 4,
   "id": "f0c66498",
   "metadata": {},
   "outputs": [],
   "source": [
    "import glob\n",
    "dbf_files = glob.glob(folder + \"/*.dbf\") # フルパスのリスト\n",
    "files = []\n",
    "for dbf in dbf_files:\n",
    "    # LDIDと関連したCodepage の情報\n",
    "    code = codepage_list_from_dbf_file(dbf) # dbf ヘッダーのLDID をもとにCodepage の情報を取得\n",
    "    path, dbf_name = os.path.split(dbf) # path と ファイル名を分ける\n",
    "    code.insert(0, dbf_name) # list の先頭にファイル名を追加\n",
    "\n",
    "    # CPG ファイルの情報\n",
    "    cpg_exist, code_value = check_related_cpgfile(dbf)\n",
    "    code.append(cpg_exist)\n",
    "    code.append(code_value)\n",
    "    \n",
    "    files.append(code)"
   ]
  },
  {
   "cell_type": "code",
   "execution_count": 5,
   "id": "7e2fd57f",
   "metadata": {},
   "outputs": [
    {
     "data": {
      "text/html": [
       "<div>\n",
       "<style scoped>\n",
       "    .dataframe tbody tr th:only-of-type {\n",
       "        vertical-align: middle;\n",
       "    }\n",
       "\n",
       "    .dataframe tbody tr th {\n",
       "        vertical-align: top;\n",
       "    }\n",
       "\n",
       "    .dataframe thead th {\n",
       "        text-align: right;\n",
       "    }\n",
       "</style>\n",
       "<table border=\"1\" class=\"dataframe\">\n",
       "  <thead>\n",
       "    <tr style=\"text-align: right;\">\n",
       "      <th></th>\n",
       "      <th>ファイル名</th>\n",
       "      <th>LDID</th>\n",
       "      <th>Codepage</th>\n",
       "      <th>Description</th>\n",
       "      <th>CPGファイルの有無</th>\n",
       "      <th>CPGファイルの値</th>\n",
       "    </tr>\n",
       "  </thead>\n",
       "  <tbody>\n",
       "    <tr>\n",
       "      <th>0</th>\n",
       "      <td>L03-a-16_6140.dbf</td>\n",
       "      <td>0</td>\n",
       "      <td>0</td>\n",
       "      <td>Unknown CodePage</td>\n",
       "      <td>False</td>\n",
       "      <td></td>\n",
       "    </tr>\n",
       "  </tbody>\n",
       "</table>\n",
       "</div>"
      ],
      "text/plain": [
       "               ファイル名  LDID Codepage       Description  CPGファイルの有無 CPGファイルの値\n",
       "0  L03-a-16_6140.dbf     0        0  Unknown CodePage       False          "
      ]
     },
     "execution_count": 6,
     "metadata": {},
     "output_type": "execute_result"
    }
   ],
   "source": [
    "# Pandas で表示\n",
    "import pandas as pd\n",
    "df = pd.DataFrame(files)\n",
    "df.columns = ['ファイル名', 'LDID', 'Codepage', 'Description', 'CPGファイルの有無', 'CPGファイルの値'] # dataFrame のヘッダーを設定\n",
    "df"
   ]
  },
  {
   "cell_type": "markdown",
   "id": "15760924",
   "metadata": {},
   "source": [
    "#### 2) サンプルその２：サブフォルダー 内のdbf ファイル の LDID と CPGファイルの情報を一覧で表示\n",
    "\n",
    "※国土数値情報の土地利用3次メッシュ（平成28年）のデータをサンプルとして利用しています。\n",
    "<pre>\n",
    "folder\n",
    "  |- subfolder\n",
    "    |- xxx.dbf\n",
    "    |- (xxx.cpg)\n",
    "  |- subfolder\n",
    "    |- yyy.dbf\n",
    "    |- (yyy.cpg)\n",
    "</pre>"
   ]
  },
  {
   "cell_type": "code",
   "execution_count": 7,
   "id": "a4d4781e",
   "metadata": {},
   "outputs": [],
   "source": [
    "folder2 = r\"your_folder_path\\国土数値情報DB\\1_国土_土地利用\\土地利用3次メッシュ\""
   ]
  },
  {
   "cell_type": "code",
   "execution_count": 8,
   "id": "67d8e1b8",
   "metadata": {},
   "outputs": [],
   "source": [
    "files2 = []\n",
    "dbf_files = glob.glob(folder2 + \"/**/*.dbf\", recursive = True) # フルパスのリスト\n",
    "for dbf in dbf_files:\n",
    "    # LDIDと関連したCodepage の情報\n",
    "    code = codepage_list_from_dbf_file(dbf) # dbf ヘッダーのLDID をもとにCodepage の情報を取得\n",
    "    path, dbf_name = os.path.split(dbf) # path と ファイル名を分ける\n",
    "    \n",
    "    code.insert(0, os.path.split(path)[1]) # list の先頭にサブディレクトリを追加\n",
    "    code.insert(1, dbf_name) # list の先頭にファイル名を追加\n",
    "    \n",
    "    # CPG ファイルの情報\n",
    "    cpg_exist, code_value = check_related_cpgfile(dbf)\n",
    "    code.append(cpg_exist)\n",
    "    code.append(code_value)\n",
    "    files2.append(code)"
   ]
  },
  {
   "cell_type": "code",
   "execution_count": 9,
   "id": "59e27eef",
   "metadata": {},
   "outputs": [
    {
     "data": {
      "text/html": [
       "<div>\n",
       "<style scoped>\n",
       "    .dataframe tbody tr th:only-of-type {\n",
       "        vertical-align: middle;\n",
       "    }\n",
       "\n",
       "    .dataframe tbody tr th {\n",
       "        vertical-align: top;\n",
       "    }\n",
       "\n",
       "    .dataframe thead th {\n",
       "        text-align: right;\n",
       "    }\n",
       "</style>\n",
       "<table border=\"1\" class=\"dataframe\">\n",
       "  <thead>\n",
       "    <tr style=\"text-align: right;\">\n",
       "      <th></th>\n",
       "      <th>サブフォルダー名</th>\n",
       "      <th>ファイル名</th>\n",
       "      <th>LDID</th>\n",
       "      <th>Codepage</th>\n",
       "      <th>Description</th>\n",
       "      <th>CPGファイルの有無</th>\n",
       "      <th>CPGファイルの値</th>\n",
       "    </tr>\n",
       "  </thead>\n",
       "  <tbody>\n",
       "    <tr>\n",
       "      <th>0</th>\n",
       "      <td>L03-a-16_6040-jgd_GML</td>\n",
       "      <td>L03-a-16_6040.dbf</td>\n",
       "      <td>0</td>\n",
       "      <td>0</td>\n",
       "      <td>Unknown CodePage</td>\n",
       "      <td>False</td>\n",
       "      <td></td>\n",
       "    </tr>\n",
       "    <tr>\n",
       "      <th>1</th>\n",
       "      <td>L03-a-16_6041-jgd_GML</td>\n",
       "      <td>L03-a-16_6041.dbf</td>\n",
       "      <td>0</td>\n",
       "      <td>0</td>\n",
       "      <td>Unknown CodePage</td>\n",
       "      <td>False</td>\n",
       "      <td></td>\n",
       "    </tr>\n",
       "    <tr>\n",
       "      <th>2</th>\n",
       "      <td>L03-a-16_6140-jgd_GML</td>\n",
       "      <td>L03-a-16_6140.dbf</td>\n",
       "      <td>0</td>\n",
       "      <td>0</td>\n",
       "      <td>Unknown CodePage</td>\n",
       "      <td>False</td>\n",
       "      <td></td>\n",
       "    </tr>\n",
       "    <tr>\n",
       "      <th>3</th>\n",
       "      <td>L03-a-16_6141-jgd_GML</td>\n",
       "      <td>L03-a-16_6141.dbf</td>\n",
       "      <td>0</td>\n",
       "      <td>0</td>\n",
       "      <td>Unknown CodePage</td>\n",
       "      <td>False</td>\n",
       "      <td></td>\n",
       "    </tr>\n",
       "  </tbody>\n",
       "</table>\n",
       "</div>"
      ],
      "text/plain": [
       "                サブフォルダー名              ファイル名  LDID Codepage       Description  \\\n",
       "0  L03-a-16_6040-jgd_GML  L03-a-16_6040.dbf     0        0  Unknown CodePage   \n",
       "1  L03-a-16_6041-jgd_GML  L03-a-16_6041.dbf     0        0  Unknown CodePage   \n",
       "2  L03-a-16_6140-jgd_GML  L03-a-16_6140.dbf     0        0  Unknown CodePage   \n",
       "3  L03-a-16_6141-jgd_GML  L03-a-16_6141.dbf     0        0  Unknown CodePage   \n",
       "\n",
       "   CPGファイルの有無 CPGファイルの値  \n",
       "0       False            \n",
       "1       False            \n",
       "2       False            \n",
       "3       False            "
      ]
     },
     "execution_count": 10,
     "metadata": {},
     "output_type": "execute_result"
    }
   ],
   "source": [
    "df2 = pd.DataFrame(files2)\n",
    "df2.columns = ['サブフォルダー名','ファイル名', 'LDID', 'Codepage', 'Description', 'CPGファイルの有無', 'CPGファイルの値'] # dataFrame のヘッダーを設定\n",
    "df2"
   ]
  },
  {
   "cell_type": "markdown",
   "id": "cf493033",
   "metadata": {},
   "source": [
    "#### 3) サンプルその３：フォルダー 内のシェープファイル に対応するCPG ファイルを一括で作成する\n",
    "\n",
    "サンプルその１ で調査したフォルダーに対応して、'シェープファイル名.cpg' のテキストファイルを一括で作成するサンプル。\n",
    "\n",
    "dBASE ファイル の LDID が`13` でなく`0` となっている Shift-JIS シェープファイルが大量にある場合に便利です。"
   ]
  },
  {
   "cell_type": "code",
   "execution_count": 11,
   "id": "116ff97e",
   "metadata": {},
   "outputs": [],
   "source": [
    "def create_related_cpgfile(cpg_txt, dbf):\n",
    "    \"\"\"\n",
    "    dbf ファイルと同じフォルダー内にcpg ファイルを作成\n",
    "    \"\"\"\n",
    "    path, dbf_name = os.path.split(dbf) # path と ファイル名を分ける  \n",
    "    file_name = os.path.splitext(dbf_name)[0]\n",
    "    cpg_file_name = \"{}.cpg\".format(os.path.splitext(file_name)[0])\n",
    "    cpg_file = os.path.join(path, cpg_file_name) #フルパス\n",
    "    with open(cpg_file, 'w', encoding='utf-8') as f: # mode='w' でない場合には作成。既存のものがある場合は上書き\n",
    "        f.write(cpg_txt)\n",
    "        \n",
    "def delete_related_cpgfile(dbf):\n",
    "    \"\"\"\n",
    "    dbf ファイルと同じフォルダー内にcpg ファイルを削除\n",
    "    \"\"\"\n",
    "    path, dbf_name = os.path.split(dbf) # path と ファイル名を分ける  \n",
    "    file_name = os.path.splitext(dbf_name)[0]\n",
    "    cpg_file_name = \"{}.cpg\".format(os.path.splitext(file_name)[0])\n",
    "    cpg_file = os.path.join(path, cpg_file_name) #フルパス\n",
    "    if os.path.isfile(cpg_file): # 存在する場合に削除\n",
    "        os.remove(cpg_file)"
   ]
  },
  {
   "cell_type": "code",
   "execution_count": 12,
   "id": "e5db7303",
   "metadata": {},
   "outputs": [],
   "source": [
    "cpg_txt = 'SJIS\\n' # 'SJIS\\n' or 'UTF-8\\n'\n",
    "dbf_files = glob.glob(folder + \"/*.dbf\") # フルパスのリストを取得\n",
    "for dbf in dbf_files:\n",
    "    create_related_cpgfile(cpg_txt, dbf)\n",
    "    #delete_related_cpgfile(dbf)"
   ]
  },
  {
   "cell_type": "markdown",
   "id": "4dba4d0b",
   "metadata": {},
   "source": [
    "#### 4) サンプルその４：サブフォルダー 内のシェープファイル に対応するCPG ファイルを一括で作成する\n",
    "\n",
    "サンプルその２ で調査したサブフォルダーに対応して、'シェープファイル名.cpg' のテキストファイルを一括で作成するサンプル。"
   ]
  },
  {
   "cell_type": "code",
   "execution_count": 13,
   "id": "3c1311ca",
   "metadata": {},
   "outputs": [],
   "source": [
    "cpg_txt = 'SJIS\\n' # 'SJIS\\n' or 'UTF-8\\n'\n",
    "dbf_files = glob.glob(folder2 + \"/**/*.dbf\", recursive = True) # フルパスのリストを取得\n",
    "for dbf in dbf_files:\n",
    "    create_related_cpgfile(cpg_txt, dbf)\n",
    "    #delete_related_cpgfile(dbf)"
   ]
  },
  {
   "cell_type": "code",
   "execution_count": null,
   "id": "0514749f",
   "metadata": {},
   "outputs": [],
   "source": []
  }
 ],
 "metadata": {
  "kernelspec": {
   "display_name": "Python 3",
   "language": "python",
   "name": "python3"
  },
  "language_info": {
   "codemirror_mode": {
    "name": "ipython",
    "version": 3
   },
   "file_extension": ".py",
   "mimetype": "text/x-python",
   "name": "python",
   "nbconvert_exporter": "python",
   "pygments_lexer": "ipython3",
   "version": "3.7.11"
  }
 },
 "nbformat": 4,
 "nbformat_minor": 5
}
